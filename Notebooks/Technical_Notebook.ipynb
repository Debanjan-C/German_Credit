{
 "cells": [
  {
   "cell_type": "markdown",
   "metadata": {},
   "source": [
    "## German Credit Risk Classification: Are you at Risk?"
   ]
  },
  {
   "cell_type": "markdown",
   "metadata": {},
   "source": [
    "Debanjan Chowdhury Data 602"
   ]
  },
  {
   "cell_type": "markdown",
   "metadata": {},
   "source": [
    "## Abstract - Summary\n",
    "\n",
    "\"Poor credit can make it harder to get car and home loans, and to qualify for credit card accounts.\" (Investopedia) This is a quote mentioned by the invetment site, investopedia. These days it is important to understand your credit details, mainly credit scores and where you may stand. When you buy a car, house, or anything else, the credit score may be something that they pay close attention to. However, many of us are not aware of our credit score and do not know where we may stand in terms of credit risk if we have a lower score. My **motivations** behind the project is that some people may not be aware how the credit score is calculated and that makes it hard to understand if they are in a risk. An interview was reported in a CNBC article and a good amount if individuals said that they are not aware of how their credit scores may be calculated. \"CompareCards by LendingTree conducted an online survey of more than 1,000 people and found that 37 percent either strongly or somewhat agreed with the statement, “I have no idea how my credit score is determined.” In this project, I am a Data Scientist in Frankfurt who is working for a I am a Data Scientist in Frankfurt for a finance company where I am verifying individuals credit details based on the information they provide like age, savings account amount, job , checkings amount amount, housing information and many more. Our dataset has about 10 columns and 1,000 rows with mostly categorical and classification datas. The goal is to take multiple features that play a role in determining an individuals credit risks and in the target section. We have the binary classifciation data where it tells us if we are in the risk zone or now. My role in the company as a data scientist is to verify whether the risk evalautions made by co-workers in the company are correct or not. I intially do exploratory data analysis and data cleaning to fill in empty values with the term no account as null values represent that individuals do not have a savings or checkings account. Next, I conductedd feature engineering to convert all letters and other non-numeric categorical values into numeric values as models would use all numeric values After those steps, I developed a logistic regression model where I split the data into test-train sets and tested my dataset. Following that, I used a precision matrix and found the accruacy, precision and recall values of each of the datasets. After that, I decided to also compare the logistic regression training model with the decision tree training model and find the accuracy and other scores along with develop a confusion matrix. What also drove my curiousity is that I wanted to see if removing outliers from important columns or removing the null values in the initial dataset would affect the results of the logistic regression dataset. I made a copy of the original data set and removed outliers in one and removed the null valuess in another. The results showed that it would be best to use the Decision tree model as we saw a higher accuracy score and overall higher scores for our training dataset and saw a relatively lower score in the test dataset but that could possibly be because, we took only 20% test data. If we had taken more, maybe it could have been different. I also saw that we have the chance to change the maximum leaf node and that could also give a better accuracy as more leaf nodes mean more conditions would be used to verify the data. Along with that, I also found out that removing the outliers could have a positive effect on accracy and overall scores, but removing nulls would not. "
   ]
  },
  {
   "cell_type": "markdown",
   "metadata": {},
   "source": [
    "## Introduction\n",
    "\n",
    "I have heard from college days from parents and many others that your credit score is important. With a not so great credit score, you cannot buy a car, buy a house or anything along hte lines. It would cause a lot of trouble. Therefore, I wondered how would one know. When I got my credit cards and all, I realized that we see a FICO credit score for our individual cards and all. However, how would one know their overall. The cards would only show whether a credit score for all specific purchases in that card or account. However, when someone has mmultiple credit cards, it may be harder to know the overaall score. Along with that, I have seen credit card companies say if a score is good, very good bad, etc. However, we may not always be sure when we are in the risk zone and the main purpose of the project is to see if you are in the risk zone or not. One of the main **motivations** behind the project is that some people may not be aware how the credit score is calculated and that makes it hard to understand if they are in a risk. \"CompareCards by LendingTree conducted an online survey of more than 1,000 people and found that 37 percent either strongly or somewhat agreed with the statement, “I have no idea how my credit score is determined.” (cnbc) An article on cnbc known as About 4 in 10 \"Americans ‘have no idea’ how their credit score is determined\", they tell us that there are about 37% of the group they interviewed that mentioned they are not aware of how there credit score is calculated.\n",
    "\n",
    "For this project, I am a Data Scientist in Frankfurt for a finance company where I am verifying individuals credit detailss based on the information they provide me like their age, bank savings about details, checking account details, current credit amount, housing information, the purpose of their credit details, etc. Following that, it is evaluated by the company about the risk levels of whether it is considered good or bad. My role is to verify the accuracy of the risks and evaluate what could be a potential solution to help improve accuracy or provide any advice, so the company can let the user know when they are really under a serious risk and when they are not.\n",
    "\n",
    "I used different types of methods and technologies like data cleaning, feature engineering and exploratory data analysis to undersand the data in more details and evaluate where to be alert or pay attention. Following that, I use logistic regression and decision trees to verify if the risk is correct or not. I compared the logistic regressiona nd decision tree and realized that one is relatively better than the other one.  I realized that when we remove some of the outliers the percentage of the accuracy rises and when we ignore those who may not have a checkings or saings account then the accuracy percentage falls and seems to be more riskier. \n"
   ]
  },
  {
   "cell_type": "markdown",
   "metadata": {},
   "source": [
    "### Dataset\n",
    "\n",
    "- The dataset used for this project was found at https://www.kaggle.com/kabure/german-credit-data-with-risk. \n",
    "- We made some references to another link where the same dataset was used and more description about each of the columns were mentioned in further details https://www.kaggle.com/uciml/german-credit/\n",
    "- This dataset was inspired by the intial data in the UCI website: https://archive.ics.uci.edu/ml/datasets/Statlog+%28German+Credit+Data%29\n",
    "- This dataset ontains information about individuals in Germany who provided information about their bank account details, jobs, etc and according to UCI, the initial dataset was published by Professor Hoffman in the University of Hamburg."
   ]
  },
  {
   "cell_type": "markdown",
   "metadata": {},
   "source": [
    "## Research Question"
   ]
  },
  {
   "cell_type": "markdown",
   "metadata": {},
   "source": [
    "When we use logistic regression, will the accuracy and overall scores of credit risk evaluation be larger or will it be larger when we use other classification models and will it play a role when we modify the dataset like remove outliers?"
   ]
  },
  {
   "cell_type": "markdown",
   "metadata": {},
   "source": [
    "### Importing potential libraries"
   ]
  },
  {
   "cell_type": "code",
   "execution_count": 1,
   "metadata": {},
   "outputs": [],
   "source": [
    "import pandas as pd\n",
    "import seaborn as sns\n",
    "import matplotlib.pyplot as plt\n",
    "import numpy as np"
   ]
  },
  {
   "cell_type": "markdown",
   "metadata": {},
   "source": [
    "### Loading the dataset and reading it"
   ]
  },
  {
   "cell_type": "code",
   "execution_count": 2,
   "metadata": {},
   "outputs": [],
   "source": [
    "df = pd.read_csv('german_credit_data.csv', index_col=0)"
   ]
  },
  {
   "cell_type": "markdown",
   "metadata": {},
   "source": [
    "As we take a look at the datasets, we see the columns , age, sex, job, housing, etc. For the job section, we notice that they have added the unique values of 0, 1, 2, 3. According to UCI, 0 means that an individual is unemployed/ unskilled - non-resident, 1 means unskilled - resident, 2 means -skilled employee / official and 3 means - management/ self-employed/\n",
    "highly qualified employee/ officer. (UCI)"
   ]
  },
  {
   "cell_type": "code",
   "execution_count": 3,
   "metadata": {},
   "outputs": [
    {
     "data": {
      "text/plain": [
       "array([2, 1, 3, 0], dtype=int64)"
      ]
     },
     "execution_count": 3,
     "metadata": {},
     "output_type": "execute_result"
    }
   ],
   "source": [
    "df['Job'].unique()"
   ]
  },
  {
   "cell_type": "code",
   "execution_count": 4,
   "metadata": {},
   "outputs": [
    {
     "data": {
      "text/html": [
       "<div>\n",
       "<style scoped>\n",
       "    .dataframe tbody tr th:only-of-type {\n",
       "        vertical-align: middle;\n",
       "    }\n",
       "\n",
       "    .dataframe tbody tr th {\n",
       "        vertical-align: top;\n",
       "    }\n",
       "\n",
       "    .dataframe thead th {\n",
       "        text-align: right;\n",
       "    }\n",
       "</style>\n",
       "<table border=\"1\" class=\"dataframe\">\n",
       "  <thead>\n",
       "    <tr style=\"text-align: right;\">\n",
       "      <th></th>\n",
       "      <th>Age</th>\n",
       "      <th>Sex</th>\n",
       "      <th>Job</th>\n",
       "      <th>Housing</th>\n",
       "      <th>Saving accounts</th>\n",
       "      <th>Checking account</th>\n",
       "      <th>Credit amount</th>\n",
       "      <th>Duration</th>\n",
       "      <th>Purpose</th>\n",
       "      <th>Risk</th>\n",
       "    </tr>\n",
       "  </thead>\n",
       "  <tbody>\n",
       "    <tr>\n",
       "      <th>0</th>\n",
       "      <td>67</td>\n",
       "      <td>male</td>\n",
       "      <td>2</td>\n",
       "      <td>own</td>\n",
       "      <td>NaN</td>\n",
       "      <td>little</td>\n",
       "      <td>1169</td>\n",
       "      <td>6</td>\n",
       "      <td>radio/TV</td>\n",
       "      <td>good</td>\n",
       "    </tr>\n",
       "    <tr>\n",
       "      <th>1</th>\n",
       "      <td>22</td>\n",
       "      <td>female</td>\n",
       "      <td>2</td>\n",
       "      <td>own</td>\n",
       "      <td>little</td>\n",
       "      <td>moderate</td>\n",
       "      <td>5951</td>\n",
       "      <td>48</td>\n",
       "      <td>radio/TV</td>\n",
       "      <td>bad</td>\n",
       "    </tr>\n",
       "    <tr>\n",
       "      <th>2</th>\n",
       "      <td>49</td>\n",
       "      <td>male</td>\n",
       "      <td>1</td>\n",
       "      <td>own</td>\n",
       "      <td>little</td>\n",
       "      <td>NaN</td>\n",
       "      <td>2096</td>\n",
       "      <td>12</td>\n",
       "      <td>education</td>\n",
       "      <td>good</td>\n",
       "    </tr>\n",
       "    <tr>\n",
       "      <th>3</th>\n",
       "      <td>45</td>\n",
       "      <td>male</td>\n",
       "      <td>2</td>\n",
       "      <td>free</td>\n",
       "      <td>little</td>\n",
       "      <td>little</td>\n",
       "      <td>7882</td>\n",
       "      <td>42</td>\n",
       "      <td>furniture/equipment</td>\n",
       "      <td>good</td>\n",
       "    </tr>\n",
       "    <tr>\n",
       "      <th>4</th>\n",
       "      <td>53</td>\n",
       "      <td>male</td>\n",
       "      <td>2</td>\n",
       "      <td>free</td>\n",
       "      <td>little</td>\n",
       "      <td>little</td>\n",
       "      <td>4870</td>\n",
       "      <td>24</td>\n",
       "      <td>car</td>\n",
       "      <td>bad</td>\n",
       "    </tr>\n",
       "  </tbody>\n",
       "</table>\n",
       "</div>"
      ],
      "text/plain": [
       "   Age     Sex  Job Housing Saving accounts Checking account  Credit amount  \\\n",
       "0   67    male    2     own             NaN           little           1169   \n",
       "1   22  female    2     own          little         moderate           5951   \n",
       "2   49    male    1     own          little              NaN           2096   \n",
       "3   45    male    2    free          little           little           7882   \n",
       "4   53    male    2    free          little           little           4870   \n",
       "\n",
       "   Duration              Purpose  Risk  \n",
       "0         6             radio/TV  good  \n",
       "1        48             radio/TV   bad  \n",
       "2        12            education  good  \n",
       "3        42  furniture/equipment  good  \n",
       "4        24                  car   bad  "
      ]
     },
     "execution_count": 4,
     "metadata": {},
     "output_type": "execute_result"
    }
   ],
   "source": [
    "df.head()"
   ]
  },
  {
   "cell_type": "markdown",
   "metadata": {},
   "source": [
    "We have 1000 rows and 10 columns in the dataset"
   ]
  },
  {
   "cell_type": "code",
   "execution_count": 5,
   "metadata": {},
   "outputs": [
    {
     "name": "stdout",
     "output_type": "stream",
     "text": [
      "Number of columns and rows:  (1000, 10)\n"
     ]
    }
   ],
   "source": [
    "print('Number of columns and rows: ', df.shape)"
   ]
  },
  {
   "cell_type": "markdown",
   "metadata": {},
   "source": [
    "## Data cleaning and some exploratory data analysis\n",
    "\n",
    "We will first conduct some exploratory data analysis on evaluating if we have any null values. As we can notice, we have many null values in Checkings and Savings amount. The main reason behind that is that we have indiviuals who may or may not have a checkings account. Therefore, I filled the nulls with \"no account\" as those are categorical datasets and we should maintain consistency. We will be changing it to numeric data prior to logistic regression model developments."
   ]
  },
  {
   "cell_type": "code",
   "execution_count": 6,
   "metadata": {},
   "outputs": [
    {
     "data": {
      "text/plain": [
       "Age                   0\n",
       "Sex                   0\n",
       "Job                   0\n",
       "Housing               0\n",
       "Saving accounts     183\n",
       "Checking account    394\n",
       "Credit amount         0\n",
       "Duration              0\n",
       "Purpose               0\n",
       "Risk                  0\n",
       "dtype: int64"
      ]
     },
     "execution_count": 6,
     "metadata": {},
     "output_type": "execute_result"
    }
   ],
   "source": [
    "df.isnull().sum()"
   ]
  },
  {
   "cell_type": "code",
   "execution_count": 7,
   "metadata": {},
   "outputs": [],
   "source": [
    "df2 = df.fillna(\"no acct\")"
   ]
  },
  {
   "cell_type": "code",
   "execution_count": 8,
   "metadata": {},
   "outputs": [
    {
     "data": {
      "text/html": [
       "<div>\n",
       "<style scoped>\n",
       "    .dataframe tbody tr th:only-of-type {\n",
       "        vertical-align: middle;\n",
       "    }\n",
       "\n",
       "    .dataframe tbody tr th {\n",
       "        vertical-align: top;\n",
       "    }\n",
       "\n",
       "    .dataframe thead th {\n",
       "        text-align: right;\n",
       "    }\n",
       "</style>\n",
       "<table border=\"1\" class=\"dataframe\">\n",
       "  <thead>\n",
       "    <tr style=\"text-align: right;\">\n",
       "      <th></th>\n",
       "      <th>Age</th>\n",
       "      <th>Sex</th>\n",
       "      <th>Job</th>\n",
       "      <th>Housing</th>\n",
       "      <th>Saving accounts</th>\n",
       "      <th>Checking account</th>\n",
       "      <th>Credit amount</th>\n",
       "      <th>Duration</th>\n",
       "      <th>Purpose</th>\n",
       "      <th>Risk</th>\n",
       "    </tr>\n",
       "  </thead>\n",
       "  <tbody>\n",
       "    <tr>\n",
       "      <th>0</th>\n",
       "      <td>67</td>\n",
       "      <td>male</td>\n",
       "      <td>2</td>\n",
       "      <td>own</td>\n",
       "      <td>no acct</td>\n",
       "      <td>little</td>\n",
       "      <td>1169</td>\n",
       "      <td>6</td>\n",
       "      <td>radio/TV</td>\n",
       "      <td>good</td>\n",
       "    </tr>\n",
       "    <tr>\n",
       "      <th>1</th>\n",
       "      <td>22</td>\n",
       "      <td>female</td>\n",
       "      <td>2</td>\n",
       "      <td>own</td>\n",
       "      <td>little</td>\n",
       "      <td>moderate</td>\n",
       "      <td>5951</td>\n",
       "      <td>48</td>\n",
       "      <td>radio/TV</td>\n",
       "      <td>bad</td>\n",
       "    </tr>\n",
       "    <tr>\n",
       "      <th>2</th>\n",
       "      <td>49</td>\n",
       "      <td>male</td>\n",
       "      <td>1</td>\n",
       "      <td>own</td>\n",
       "      <td>little</td>\n",
       "      <td>no acct</td>\n",
       "      <td>2096</td>\n",
       "      <td>12</td>\n",
       "      <td>education</td>\n",
       "      <td>good</td>\n",
       "    </tr>\n",
       "    <tr>\n",
       "      <th>3</th>\n",
       "      <td>45</td>\n",
       "      <td>male</td>\n",
       "      <td>2</td>\n",
       "      <td>free</td>\n",
       "      <td>little</td>\n",
       "      <td>little</td>\n",
       "      <td>7882</td>\n",
       "      <td>42</td>\n",
       "      <td>furniture/equipment</td>\n",
       "      <td>good</td>\n",
       "    </tr>\n",
       "    <tr>\n",
       "      <th>4</th>\n",
       "      <td>53</td>\n",
       "      <td>male</td>\n",
       "      <td>2</td>\n",
       "      <td>free</td>\n",
       "      <td>little</td>\n",
       "      <td>little</td>\n",
       "      <td>4870</td>\n",
       "      <td>24</td>\n",
       "      <td>car</td>\n",
       "      <td>bad</td>\n",
       "    </tr>\n",
       "  </tbody>\n",
       "</table>\n",
       "</div>"
      ],
      "text/plain": [
       "   Age     Sex  Job Housing Saving accounts Checking account  Credit amount  \\\n",
       "0   67    male    2     own         no acct           little           1169   \n",
       "1   22  female    2     own          little         moderate           5951   \n",
       "2   49    male    1     own          little          no acct           2096   \n",
       "3   45    male    2    free          little           little           7882   \n",
       "4   53    male    2    free          little           little           4870   \n",
       "\n",
       "   Duration              Purpose  Risk  \n",
       "0         6             radio/TV  good  \n",
       "1        48             radio/TV   bad  \n",
       "2        12            education  good  \n",
       "3        42  furniture/equipment  good  \n",
       "4        24                  car   bad  "
      ]
     },
     "execution_count": 8,
     "metadata": {},
     "output_type": "execute_result"
    }
   ],
   "source": [
    "df2.head()"
   ]
  },
  {
   "cell_type": "markdown",
   "metadata": {},
   "source": [
    "## EDA(Exploratory Data Analysis)"
   ]
  },
  {
   "cell_type": "markdown",
   "metadata": {},
   "source": [
    "We developed conducted additional EDA to get a better diea on each of the features used in the dataset and the distruibtutions amongst it. Along with that, we also evalauted the counts of each specific data type in a feature and the correlation between a feature and the target feature or the one that woudl be in the y axis or risk in this case."
   ]
  },
  {
   "cell_type": "code",
   "execution_count": 9,
   "metadata": {
    "scrolled": false
   },
   "outputs": [
    {
     "data": {
      "text/plain": [
       "array([[<matplotlib.axes._subplots.AxesSubplot object at 0x000001FB3770CA90>,\n",
       "        <matplotlib.axes._subplots.AxesSubplot object at 0x000001FB37DECF70>],\n",
       "       [<matplotlib.axes._subplots.AxesSubplot object at 0x000001FB37E28400>,\n",
       "        <matplotlib.axes._subplots.AxesSubplot object at 0x000001FB37E53880>]],\n",
       "      dtype=object)"
      ]
     },
     "execution_count": 9,
     "metadata": {},
     "output_type": "execute_result"
    },
    {
     "data": {
      "image/png": "[encoded data removed]",
      "text/plain": [
       "<Figure size 1152x1440 with 4 Axes>"
      ]
     },
     "metadata": {
      "needs_background": "light"
     },
     "output_type": "display_data"
    }
   ],
   "source": [
    "df2.hist(figsize=(16,20), bins=30)"
   ]
  },
  {
   "cell_type": "code",
   "execution_count": 10,
   "metadata": {},
   "outputs": [
    {
     "data": {
      "text/plain": [
       "<seaborn.axisgrid.PairGrid at 0x1fb38735940>"
      ]
     },
     "execution_count": 10,
     "metadata": {},
     "output_type": "execute_result"
    },
    {
     "data": {
      "image/png": "[encoded data removed]",
      "text/plain": [
       "<Figure size 720x720 with 20 Axes>"
      ]
     },
     "metadata": {
      "needs_background": "light"
     },
     "output_type": "display_data"
    }
   ],
   "source": [
    "sns.pairplot(df2)"
   ]
  },
  {
   "cell_type": "markdown",
   "metadata": {},
   "source": [
    " We can see that more individuals are on the \"good\" side in terms of risk or they are in the safer side. There are about 700 of them and about 300 are in the bad side or they would be representing the risks. "
   ]
  },
  {
   "cell_type": "code",
   "execution_count": 11,
   "metadata": {},
   "outputs": [
    {
     "data": {
      "text/plain": [
       "<matplotlib.axes._subplots.AxesSubplot at 0x1fb381619a0>"
      ]
     },
     "execution_count": 11,
     "metadata": {},
     "output_type": "execute_result"
    },
    {
     "data": {
      "image/png": "[encoded data removed]",
      "text/plain": [
       "<Figure size 432x288 with 1 Axes>"
      ]
     },
     "metadata": {
      "needs_background": "light"
     },
     "output_type": "display_data"
    }
   ],
   "source": [
    "sns.countplot(x=\"Risk\", data=df2)"
   ]
  },
  {
   "cell_type": "markdown",
   "metadata": {},
   "source": [
    "With the datasets in the checkings and savings accounts we can see some datasets that may seem like outliers who could play a role in the classificatin models later on. There is a significant about of individuals that have a samll amount in their savings account and there are a very few group of individuals who have a large amount of money in their savings account"
   ]
  },
  {
   "cell_type": "code",
   "execution_count": 12,
   "metadata": {},
   "outputs": [
    {
     "data": {
      "text/plain": [
       "<matplotlib.axes._subplots.AxesSubplot at 0x1fb3819a1c0>"
      ]
     },
     "execution_count": 12,
     "metadata": {},
     "output_type": "execute_result"
    },
    {
     "data": {
      "image/png": "[encoded data removed]",
      "text/plain": [
       "<Figure size 432x288 with 1 Axes>"
      ]
     },
     "metadata": {
      "needs_background": "light"
     },
     "output_type": "display_data"
    }
   ],
   "source": [
    "sns.countplot(x=\"Saving accounts\", data=df2)"
   ]
  },
  {
   "cell_type": "code",
   "execution_count": 13,
   "metadata": {},
   "outputs": [
    {
     "data": {
      "text/plain": [
       "<matplotlib.axes._subplots.AxesSubplot at 0x1fb38414c40>"
      ]
     },
     "execution_count": 13,
     "metadata": {},
     "output_type": "execute_result"
    },
    {
     "data": {
      "image/png": "[encoded data removed]",
      "text/plain": [
       "<Figure size 432x288 with 1 Axes>"
      ]
     },
     "metadata": {
      "needs_background": "light"
     },
     "output_type": "display_data"
    }
   ],
   "source": [
    "sns.countplot(x=\"Checking account\", data=df2)"
   ]
  },
  {
   "cell_type": "markdown",
   "metadata": {},
   "source": [
    "The distribution plot below shows us that most individuals have a credit amount of 0 to 5,000 and the bottom box plot shows that those who are in the risk zone seem to have a slightly higher credit amount."
   ]
  },
  {
   "cell_type": "code",
   "execution_count": 15,
   "metadata": {},
   "outputs": [
    {
     "data": {
      "text/plain": [
       "<matplotlib.axes._subplots.AxesSubplot at 0x1fb384d6d30>"
      ]
     },
     "execution_count": 15,
     "metadata": {},
     "output_type": "execute_result"
    },
    {
     "data": {
      "image/png": "[encoded data removed]",
      "text/plain": [
       "<Figure size 432x288 with 1 Axes>"
      ]
     },
     "metadata": {
      "needs_background": "light"
     },
     "output_type": "display_data"
    }
   ],
   "source": [
    "sns.distplot(df2['Credit amount'], kde =True)"
   ]
  },
  {
   "cell_type": "code",
   "execution_count": 16,
   "metadata": {},
   "outputs": [
    {
     "data": {
      "text/plain": [
       "<matplotlib.axes._subplots.AxesSubplot at 0x1fb38592dc0>"
      ]
     },
     "execution_count": 16,
     "metadata": {},
     "output_type": "execute_result"
    },
    {
     "data": {
      "image/png": "[encoded data removed]",
      "text/plain": [
       "<Figure size 432x288 with 1 Axes>"
      ]
     },
     "metadata": {
      "needs_background": "light"
     },
     "output_type": "display_data"
    }
   ],
   "source": [
    "sns.boxplot('Risk', y= 'Credit amount', data= df2)"
   ]
  },
  {
   "cell_type": "markdown",
   "metadata": {},
   "source": [
    "## Feature Engineering\n",
    "\n",
    "This is the part where we will be converting the categorical variables to numerical variables and they will be used for developing the model. If the dataset had 2 variables or binary classofocation, I replaced them with 0 and 1's and if they had more categorical variables than two then I used more numbers to identify each of the specific categories. There were two columns which had null values (savings and checking account) and we assigned them to individuals having no accounts and I marked that as a 0, so it would represent that the folks did not have either one of the accounts in the respective categories. "
   ]
  },
  {
   "cell_type": "code",
   "execution_count": 17,
   "metadata": {},
   "outputs": [
    {
     "data": {
      "text/html": [
       "<div>\n",
       "<style scoped>\n",
       "    .dataframe tbody tr th:only-of-type {\n",
       "        vertical-align: middle;\n",
       "    }\n",
       "\n",
       "    .dataframe tbody tr th {\n",
       "        vertical-align: top;\n",
       "    }\n",
       "\n",
       "    .dataframe thead th {\n",
       "        text-align: right;\n",
       "    }\n",
       "</style>\n",
       "<table border=\"1\" class=\"dataframe\">\n",
       "  <thead>\n",
       "    <tr style=\"text-align: right;\">\n",
       "      <th></th>\n",
       "      <th>Age</th>\n",
       "      <th>Sex</th>\n",
       "      <th>Job</th>\n",
       "      <th>Housing</th>\n",
       "      <th>Saving accounts</th>\n",
       "      <th>Checking account</th>\n",
       "      <th>Credit amount</th>\n",
       "      <th>Duration</th>\n",
       "      <th>Purpose</th>\n",
       "      <th>Risk</th>\n",
       "    </tr>\n",
       "  </thead>\n",
       "  <tbody>\n",
       "    <tr>\n",
       "      <th>0</th>\n",
       "      <td>67</td>\n",
       "      <td>male</td>\n",
       "      <td>2</td>\n",
       "      <td>own</td>\n",
       "      <td>no acct</td>\n",
       "      <td>little</td>\n",
       "      <td>1169</td>\n",
       "      <td>6</td>\n",
       "      <td>radio/TV</td>\n",
       "      <td>good</td>\n",
       "    </tr>\n",
       "    <tr>\n",
       "      <th>1</th>\n",
       "      <td>22</td>\n",
       "      <td>female</td>\n",
       "      <td>2</td>\n",
       "      <td>own</td>\n",
       "      <td>little</td>\n",
       "      <td>moderate</td>\n",
       "      <td>5951</td>\n",
       "      <td>48</td>\n",
       "      <td>radio/TV</td>\n",
       "      <td>bad</td>\n",
       "    </tr>\n",
       "    <tr>\n",
       "      <th>2</th>\n",
       "      <td>49</td>\n",
       "      <td>male</td>\n",
       "      <td>1</td>\n",
       "      <td>own</td>\n",
       "      <td>little</td>\n",
       "      <td>no acct</td>\n",
       "      <td>2096</td>\n",
       "      <td>12</td>\n",
       "      <td>education</td>\n",
       "      <td>good</td>\n",
       "    </tr>\n",
       "    <tr>\n",
       "      <th>3</th>\n",
       "      <td>45</td>\n",
       "      <td>male</td>\n",
       "      <td>2</td>\n",
       "      <td>free</td>\n",
       "      <td>little</td>\n",
       "      <td>little</td>\n",
       "      <td>7882</td>\n",
       "      <td>42</td>\n",
       "      <td>furniture/equipment</td>\n",
       "      <td>good</td>\n",
       "    </tr>\n",
       "    <tr>\n",
       "      <th>4</th>\n",
       "      <td>53</td>\n",
       "      <td>male</td>\n",
       "      <td>2</td>\n",
       "      <td>free</td>\n",
       "      <td>little</td>\n",
       "      <td>little</td>\n",
       "      <td>4870</td>\n",
       "      <td>24</td>\n",
       "      <td>car</td>\n",
       "      <td>bad</td>\n",
       "    </tr>\n",
       "  </tbody>\n",
       "</table>\n",
       "</div>"
      ],
      "text/plain": [
       "   Age     Sex  Job Housing Saving accounts Checking account  Credit amount  \\\n",
       "0   67    male    2     own         no acct           little           1169   \n",
       "1   22  female    2     own          little         moderate           5951   \n",
       "2   49    male    1     own          little          no acct           2096   \n",
       "3   45    male    2    free          little           little           7882   \n",
       "4   53    male    2    free          little           little           4870   \n",
       "\n",
       "   Duration              Purpose  Risk  \n",
       "0         6             radio/TV  good  \n",
       "1        48             radio/TV   bad  \n",
       "2        12            education  good  \n",
       "3        42  furniture/equipment  good  \n",
       "4        24                  car   bad  "
      ]
     },
     "execution_count": 17,
     "metadata": {},
     "output_type": "execute_result"
    }
   ],
   "source": [
    "df_upd = df2.copy()\n",
    "df_upd.head()"
   ]
  },
  {
   "cell_type": "markdown",
   "metadata": {},
   "source": [
    "We mannually convert each categorical values into numerical values for modeling logistic regressions. We also have Nan values as there are individuals that do not havee a checkings or savings account and we would assign them the value of 0 as they pretty much do not have anything in that sections. We allocated 0 and 1 to binary classifications and multiple numerical values were used for multiclass classification. "
   ]
  },
  {
   "cell_type": "code",
   "execution_count": 18,
   "metadata": {},
   "outputs": [
    {
     "data": {
      "text/html": [
       "<div>\n",
       "<style scoped>\n",
       "    .dataframe tbody tr th:only-of-type {\n",
       "        vertical-align: middle;\n",
       "    }\n",
       "\n",
       "    .dataframe tbody tr th {\n",
       "        vertical-align: top;\n",
       "    }\n",
       "\n",
       "    .dataframe thead th {\n",
       "        text-align: right;\n",
       "    }\n",
       "</style>\n",
       "<table border=\"1\" class=\"dataframe\">\n",
       "  <thead>\n",
       "    <tr style=\"text-align: right;\">\n",
       "      <th></th>\n",
       "      <th>Age</th>\n",
       "      <th>Sex</th>\n",
       "      <th>Job</th>\n",
       "      <th>Housing</th>\n",
       "      <th>Saving accounts</th>\n",
       "      <th>Checking account</th>\n",
       "      <th>Credit amount</th>\n",
       "      <th>Duration</th>\n",
       "      <th>Purpose</th>\n",
       "      <th>Risk</th>\n",
       "    </tr>\n",
       "  </thead>\n",
       "  <tbody>\n",
       "    <tr>\n",
       "      <th>0</th>\n",
       "      <td>67</td>\n",
       "      <td>1</td>\n",
       "      <td>2</td>\n",
       "      <td>0</td>\n",
       "      <td>0</td>\n",
       "      <td>1</td>\n",
       "      <td>1169</td>\n",
       "      <td>6</td>\n",
       "      <td>0</td>\n",
       "      <td>1</td>\n",
       "    </tr>\n",
       "    <tr>\n",
       "      <th>1</th>\n",
       "      <td>22</td>\n",
       "      <td>0</td>\n",
       "      <td>2</td>\n",
       "      <td>0</td>\n",
       "      <td>1</td>\n",
       "      <td>2</td>\n",
       "      <td>5951</td>\n",
       "      <td>48</td>\n",
       "      <td>0</td>\n",
       "      <td>0</td>\n",
       "    </tr>\n",
       "    <tr>\n",
       "      <th>2</th>\n",
       "      <td>49</td>\n",
       "      <td>1</td>\n",
       "      <td>1</td>\n",
       "      <td>0</td>\n",
       "      <td>1</td>\n",
       "      <td>0</td>\n",
       "      <td>2096</td>\n",
       "      <td>12</td>\n",
       "      <td>7</td>\n",
       "      <td>1</td>\n",
       "    </tr>\n",
       "    <tr>\n",
       "      <th>3</th>\n",
       "      <td>45</td>\n",
       "      <td>1</td>\n",
       "      <td>2</td>\n",
       "      <td>1</td>\n",
       "      <td>1</td>\n",
       "      <td>1</td>\n",
       "      <td>7882</td>\n",
       "      <td>42</td>\n",
       "      <td>1</td>\n",
       "      <td>1</td>\n",
       "    </tr>\n",
       "    <tr>\n",
       "      <th>4</th>\n",
       "      <td>53</td>\n",
       "      <td>1</td>\n",
       "      <td>2</td>\n",
       "      <td>1</td>\n",
       "      <td>1</td>\n",
       "      <td>1</td>\n",
       "      <td>4870</td>\n",
       "      <td>24</td>\n",
       "      <td>2</td>\n",
       "      <td>0</td>\n",
       "    </tr>\n",
       "  </tbody>\n",
       "</table>\n",
       "</div>"
      ],
      "text/plain": [
       "   Age  Sex  Job  Housing  Saving accounts  Checking account  Credit amount  \\\n",
       "0   67    1    2        0                0                 1           1169   \n",
       "1   22    0    2        0                1                 2           5951   \n",
       "2   49    1    1        0                1                 0           2096   \n",
       "3   45    1    2        1                1                 1           7882   \n",
       "4   53    1    2        1                1                 1           4870   \n",
       "\n",
       "   Duration  Purpose  Risk  \n",
       "0         6        0     1  \n",
       "1        48        0     0  \n",
       "2        12        7     1  \n",
       "3        42        1     1  \n",
       "4        24        2     0  "
      ]
     },
     "execution_count": 18,
     "metadata": {},
     "output_type": "execute_result"
    }
   ],
   "source": [
    "updates = {\"Sex\":{\"female\": 0, \"male\": 1},\n",
    "                \"Housing\": {\"own\": 0, \"free\": 1, \"rent\": 2},\n",
    "                \"Saving accounts\": {'no acct': 0, \"little\": 1, \"moderate\": 2, \"rich\": 3, \"quite rich\": 4},\n",
    "                \"Checking account\": {'no acct': 0, \"little\": 1, \"moderate\": 2, \"rich\": 3, \"quite rich\": 4},\n",
    "                \"Purpose\": {\"radio/TV\": 0, \"furniture/equipment\": 1, \"car\": 2, \"business\": 3,\n",
    "                                    \"domestic appliances\": 4, \"repairs\": 5, \"vacation/others\": 6,\n",
    "                                    \"education\": 7},\n",
    "                \"Risk\": {\"bad\": 0, \"good\": 1}\n",
    "              }\n",
    "\n",
    "df_upd.replace(updates, inplace=True)\n",
    "df_upd.head()"
   ]
  },
  {
   "cell_type": "markdown",
   "metadata": {},
   "source": [
    "## Modeling & Model Evaluation"
   ]
  },
  {
   "cell_type": "markdown",
   "metadata": {},
   "source": [
    "We are developing our models here and we fit the model to our training set. Initially, we would need to import the model and the respective libraries anf then we would need to create or instantiate a logistic regression model. Finally, we would fit the model into the datasets that we would be using. Following that step, we would use a confusion  matrix to see the accuracy, check for specific details like true positive (when predcition and actual results are in the positive side or saying no risk), true negative, (when the prediction and actual data both say that things are in the negative side or you are in the risk zone for our project, false positive (when we predict things are on positive side, but in reality they may not be on that side), false negative (when we predict things are on the negative side, but in reality they are on the positive side). This will calculate the overall accuracy rate.\n",
    "\n",
    "Following, the logistic regression tests, we would also test the datasets using the decision tree model and compare our results. Out of curiousity, I wanted to all see if the logistic regresssion model would change the accuracy if we removed the null values in the initial dataset and if we remove a few outliers from the columns. That would help me understand its effects."
   ]
  },
  {
   "cell_type": "markdown",
   "metadata": {},
   "source": [
    "### Modelling with Logistic Regression"
   ]
  },
  {
   "cell_type": "markdown",
   "metadata": {},
   "source": [
    "I developed my training dataset with the data in the dataframes. We would take 20 percent of the datas from the dataset into test data and the rest would be allocated to our training sets. We would compare both and train both datasets to get a better idea of how the overall dataset can place an effect on the model. The x value is the value of the predictor and the y value is the value of the target. We will be using those values in the logistic regression models. The main reason to use logistic regression is that the target is categorical values and logistic regression is ideal for categorical values. "
   ]
  },
  {
   "cell_type": "markdown",
   "metadata": {},
   "source": [
    "Below: I took all the columns in the datset for the predictors except the risk column and took the risk column as the target as we evaluated the risks and verifying accuracy of the evaluations made."
   ]
  },
  {
   "cell_type": "code",
   "execution_count": 19,
   "metadata": {},
   "outputs": [],
   "source": [
    "x = df_upd.drop(['Risk'], axis = 1)\n",
    "y = df_upd['Risk']"
   ]
  },
  {
   "cell_type": "code",
   "execution_count": 20,
   "metadata": {},
   "outputs": [],
   "source": [
    "from sklearn.model_selection import train_test_split\n",
    "x_train, x_test, y_train, y_test = train_test_split(x, y, shuffle = True, test_size=0.2, random_state=1)"
   ]
  },
  {
   "cell_type": "code",
   "execution_count": 21,
   "metadata": {},
   "outputs": [
    {
     "data": {
      "text/plain": [
       "LogisticRegression(max_iter=10000, penalty='none')"
      ]
     },
     "execution_count": 21,
     "metadata": {},
     "output_type": "execute_result"
    }
   ],
   "source": [
    "##We are using a linear model, but using a logistic regression.\n",
    "from sklearn.linear_model import LogisticRegression ## import model\n",
    "\n",
    "logreg = LogisticRegression(penalty = 'none' , max_iter= 10000) ## instantiate model --- Create model - Step 1\n",
    "logreg.fit(x_train, y_train) ## fit model to data (learning) ##optimization problem solved - Step 2-3"
   ]
  },
  {
   "cell_type": "markdown",
   "metadata": {},
   "source": [
    "In the example, below. We get our accuracy score where we see how the percent of prediction accuracy we have. Currently, it seems we have a 70% accuracy in the training dataset. That shows it predicts correctly most of the time, but there is a 30% chance that it may not. "
   ]
  },
  {
   "cell_type": "code",
   "execution_count": 22,
   "metadata": {},
   "outputs": [
    {
     "data": {
      "text/plain": [
       "0.70125"
      ]
     },
     "execution_count": 22,
     "metadata": {},
     "output_type": "execute_result"
    }
   ],
   "source": [
    "## Accuracy Scores for training sets\n",
    "score = logreg.score(x_train, y_train)\n",
    "score"
   ]
  },
  {
   "cell_type": "markdown",
   "metadata": {},
   "source": [
    "We get our accuracy score for the test where we see how the percent of prediction accuracy we have. Currently, it seems we have a 74% accuracy in the training dataset. That shows it predicts correctly most of the time, but there is a 26% chance that it may not for the test data correctly."
   ]
  },
  {
   "cell_type": "code",
   "execution_count": 23,
   "metadata": {},
   "outputs": [
    {
     "data": {
      "text/plain": [
       "0.74"
      ]
     },
     "execution_count": 23,
     "metadata": {},
     "output_type": "execute_result"
    }
   ],
   "source": [
    "## Accuracy Scores for testing sets\n",
    "score_test = logreg.score(x_test, y_test)\n",
    "score_test"
   ]
  },
  {
   "cell_type": "markdown",
   "metadata": {},
   "source": [
    "In the cell below, a prediction is being made on what the results will be for each of the values in the x training datasets and the x testing datasets and they will be used further. Following, that step, we develop a confusion matrix to show the number"
   ]
  },
  {
   "cell_type": "code",
   "execution_count": 24,
   "metadata": {},
   "outputs": [],
   "source": [
    "predictions = logreg.predict(x_train)\n",
    "predictions_test = logreg.predict(x_test)\n",
    "\n",
    "from sklearn import metrics\n",
    "\n",
    "cm = metrics.confusion_matrix(y_train, predictions)\n",
    "cm_test = metrics.confusion_matrix(y_test, predictions_test)"
   ]
  },
  {
   "cell_type": "markdown",
   "metadata": {},
   "source": [
    "**Below: We are displaying the Confusion matrix for the training datasets**"
   ]
  },
  {
   "cell_type": "code",
   "execution_count": 25,
   "metadata": {},
   "outputs": [
    {
     "data": {
      "image/png": "[encoded data removed]",
      "text/plain": [
       "<Figure size 648x648 with 2 Axes>"
      ]
     },
     "metadata": {
      "needs_background": "light"
     },
     "output_type": "display_data"
    }
   ],
   "source": [
    "plt.figure(figsize=(9,9))\n",
    "sns.heatmap(cm, annot=True, fmt=\".3f\", linewidths=.5, square = True, cmap = 'Pastel1')\n",
    "plt.ylabel('Actual label');\n",
    "plt.xlabel('Predicted label');\n",
    "all_sample_title = 'Accuracy Score for training data: {0}'.format(score)\n",
    "plt.title(all_sample_title, size = 15);\n",
    "plt.show()"
   ]
  },
  {
   "cell_type": "markdown",
   "metadata": {},
   "source": [
    "**In the confusion matrix above, we notice that the score is about 70% accurate. That couls indicate that it is correct and accurate most of the time, but about 30 percent of the time it would be incorrect. I also noticed that the False Positive count is realtively high compared to false negative or true negative. Therefore, I started wondering what could mainly be the main reason behind this. I wondered if the factors of having outliers or having datas where individuals may not have a savings or checkings account would be playing a role. As those values were the null values for individuals who did not have a savings or checkings account.**"
   ]
  },
  {
   "cell_type": "markdown",
   "metadata": {},
   "source": [
    "**Below: We are displaying the Confusion matrix for the test datasets**"
   ]
  },
  {
   "cell_type": "code",
   "execution_count": 26,
   "metadata": {},
   "outputs": [
    {
     "data": {
      "image/png": "[encoded data removed]",
      "text/plain": [
       "<Figure size 648x648 with 2 Axes>"
      ]
     },
     "metadata": {
      "needs_background": "light"
     },
     "output_type": "display_data"
    }
   ],
   "source": [
    "plt.figure(figsize=(9,9))\n",
    "sns.heatmap(cm_test, annot=True, fmt=\".3f\", linewidths=.5, square = True, cmap = 'Pastel1');\n",
    "plt.ylabel('Actual label');\n",
    "plt.xlabel('Predicted label');\n",
    "all_sample_title = 'Accuracy Score for test data: {0}'.format(score_test)\n",
    "plt.title(all_sample_title, size = 15);\n",
    "plt.show()"
   ]
  },
  {
   "cell_type": "markdown",
   "metadata": {},
   "source": [
    "**The testing dataset had 20% of the datas from the overall dataset and we got a slightly better accuracy score from the training dataset where it was about 70. However, there is a 26 percent chance with the testing data that it may be incorrect.**  "
   ]
  },
  {
   "cell_type": "markdown",
   "metadata": {},
   "source": [
    "**Below: we are trying to figure out how we are finding accuracy**"
   ]
  },
  {
   "cell_type": "code",
   "execution_count": 27,
   "metadata": {},
   "outputs": [
    {
     "name": "stdout",
     "output_type": "stream",
     "text": [
      "Accuracy for training data: 0.70125\n",
      "Precision for training data: 0.7259887005649718\n",
      "Recall for training data: 0.9194991055456172 \n",
      "\n",
      "Accuracy for testing data: 0.74\n",
      "Precision for testing data: 0.7542857142857143\n",
      "Recall for testing data: 0.9361702127659575\n"
     ]
    }
   ],
   "source": [
    "training_acc = metrics.accuracy_score(y_train, predictions)\n",
    "training_prec = metrics.precision_score(y_train, predictions)\n",
    "training_recall = metrics.recall_score(y_train, predictions)\n",
    "testing_acc = metrics.accuracy_score(y_test, predictions_test)\n",
    "testing_prec = metrics.precision_score(y_test, predictions_test)\n",
    "testing_recall = metrics.recall_score(y_test, predictions_test)\n",
    "\n",
    "print(\"Accuracy for training data:\", training_acc)\n",
    "print(\"Precision for training data:\", training_prec)\n",
    "print(\"Recall for training data:\", training_recall, '\\n')\n",
    "\n",
    "print(\"Accuracy for testing data:\", testing_acc)\n",
    "print(\"Precision for testing data:\", testing_prec)\n",
    "print(\"Recall for testing data:\", testing_recall)\n"
   ]
  },
  {
   "cell_type": "markdown",
   "metadata": {},
   "source": [
    "- The accuracy is calculated by dividing the correct prediction amount by the number of total cases and we can see that the accuracy is higher for the test data sets when we use logistic regression. \n",
    "- Then the precision is calculated by the number of true positives by the number of condition positives (sum of the true positive and alse negative). As we can see above, the precision is also higher for the test datasets. \n",
    "- The recall is the division of the true positives with the number of predicted positives (sum of true and false postives). In this case, we can see that the recall was also higher in the testing datasets. So, it seems while we used logistic regresssion on the data set, the datas in the test sets were higher. "
   ]
  },
  {
   "cell_type": "markdown",
   "metadata": {},
   "source": [
    "### Modelling with Decision trees"
   ]
  },
  {
   "cell_type": "markdown",
   "metadata": {},
   "source": [
    "The main goal of the decision tree is when they take predictor space and break it into a number of different regions. We would break each of the individual datasets in the columnd to smaller parts like if we have a dataset columnd calculating the income. We would evalaute if the income is larger than a specific number and then we would continue to the next node of the tree from the root node if it is and if not then we would not continue. Then we would continue to the terminal node from root node. The last nodes (when we cannot go to the next node and no more conitions exist), we reach the leaf nodes. "
   ]
  },
  {
   "cell_type": "markdown",
   "metadata": {},
   "source": [
    "We are importing the decision tree model and instantaition it. Following that step, we are trying to fit our x and y training datasets. The decision tree develops has a root node where it would have a conditions based on your datasert and it would move to the next node based on the condition. Like if salary is greater then something go to node a or b. Following, that, it would do the same with the following nodes until all conditions are satisfied and it would move to the leaf node (no following noddes after this). Therefore, in our example below, we set a maximum leaf nodes the decision tree can make is set to 10 for experimental purposes as I feel we have about many cateogoircal rows and not all are binary, so 10 should be ok I feel to make multiple conditions and develope nodes."
   ]
  },
  {
   "cell_type": "code",
   "execution_count": 28,
   "metadata": {},
   "outputs": [
    {
     "data": {
      "text/plain": [
       "DecisionTreeClassifier(max_leaf_nodes=10)"
      ]
     },
     "execution_count": 28,
     "metadata": {},
     "output_type": "execute_result"
    }
   ],
   "source": [
    "from sklearn.tree import DecisionTreeClassifier\n",
    "clf = DecisionTreeClassifier(max_leaf_nodes= 10)\n",
    "clf.fit(x_train, y_train)"
   ]
  },
  {
   "cell_type": "markdown",
   "metadata": {},
   "source": [
    "We are evaluating our scores of the decision tree model using the training and testing datasetss, predictions and the confusion matrices and storing them in the respective variables. They will be used later on. "
   ]
  },
  {
   "cell_type": "code",
   "execution_count": 29,
   "metadata": {},
   "outputs": [],
   "source": [
    "score_dt = clf.score(x_train, y_train)\n",
    "score_dt_test = clf.score(x_test, y_test)\n",
    "\n",
    "dt_predictions = clf.predict(x_train)\n",
    "dt_predictions_test = clf.predict(x_test)\n",
    "\n",
    "cm_dt = metrics.confusion_matrix(y_train, dt_predictions)\n",
    "cm_dt_test = metrics.confusion_matrix(y_test, dt_predictions_test)"
   ]
  },
  {
   "cell_type": "markdown",
   "metadata": {},
   "source": [
    "**Below is the confusion matrix for the training datasets using Decision Tree**"
   ]
  },
  {
   "cell_type": "code",
   "execution_count": 30,
   "metadata": {},
   "outputs": [
    {
     "data": {
      "image/png": "[encoded data removed]",
      "text/plain": [
       "<Figure size 648x648 with 2 Axes>"
      ]
     },
     "metadata": {
      "needs_background": "light"
     },
     "output_type": "display_data"
    }
   ],
   "source": [
    "plt.figure(figsize=(9,9))\n",
    "sns.heatmap(cm_dt, annot=True, fmt=\".3f\", linewidths=.5, square = True, cmap = 'Pastel1')\n",
    "plt.ylabel('Actual label');\n",
    "plt.xlabel('Predicted label');\n",
    "all_sample_title = 'Accuracy Score for training data: {0}'.format(score_dt)\n",
    "plt.title(all_sample_title, size = 15);\n",
    "plt.show()"
   ]
  },
  {
   "cell_type": "markdown",
   "metadata": {},
   "source": [
    "**As we can see above, we get a 76 percent accuracy when we used decision trees and sset terminal node to 10 and in the case of logistic regression it was slightly lower around 70. However, we do see other trends like the False Positive Section is pretty high, etc. This tells us the model is overall performing well in most cases, but there is a 24% chance that it may give wrong data.**"
   ]
  },
  {
   "cell_type": "markdown",
   "metadata": {},
   "source": [
    "**Below is the confusion matrix for the test datasets using Decision Tree**"
   ]
  },
  {
   "cell_type": "code",
   "execution_count": 31,
   "metadata": {},
   "outputs": [
    {
     "data": {
      "image/png": "[encoded data removed]",
      "text/plain": [
       "<Figure size 648x648 with 2 Axes>"
      ]
     },
     "metadata": {
      "needs_background": "light"
     },
     "output_type": "display_data"
    }
   ],
   "source": [
    "plt.figure(figsize=(9,9))\n",
    "sns.heatmap(cm_dt_test, annot=True, fmt=\".3f\", linewidths=.5, square = True, cmap = 'Pastel1')\n",
    "plt.ylabel('Actual label');\n",
    "plt.xlabel('Predicted label');\n",
    "all_sample_title = 'Accuracy Score for testing data in decision tree: {0}'.format(score_dt_test)\n",
    "plt.title(all_sample_title, size = 15);\n",
    "plt.show()"
   ]
  },
  {
   "cell_type": "markdown",
   "metadata": {},
   "source": [
    "**As we can see above, we get a 70 percent accuracy rate for test datasets when we used decision trees and sset terminal node to 10 and in the case of logistic regression the test set was a bit higher in 74%. However, we do see other trends like the False Positive Section is pretty high, etc. This tells us the model is overall performing well in most cases, but there is a 30% chance that it may give wrong data.**"
   ]
  },
  {
   "cell_type": "code",
   "execution_count": 32,
   "metadata": {},
   "outputs": [
    {
     "name": "stdout",
     "output_type": "stream",
     "text": [
      "Accuracy for training data: 0.76125\n",
      "Precision for training data: 0.7493224932249323\n",
      "Recall for training data: 0.9892665474060823 \n",
      "\n",
      "Accuracy for testing data: 0.7\n",
      "Precision for testing data: 0.7262569832402235\n",
      "Recall for testing data: 0.9219858156028369\n"
     ]
    }
   ],
   "source": [
    "dt_training_acc = metrics.accuracy_score(y_train, dt_predictions)\n",
    "dt_training_prec = metrics.precision_score(y_train, dt_predictions)\n",
    "dt_training_recall = metrics.recall_score(y_train, dt_predictions)\n",
    "dt_testing_acc = metrics.accuracy_score(y_test, dt_predictions_test)\n",
    "dt_testing_prec = metrics.precision_score(y_test, dt_predictions_test)\n",
    "dt_testing_recall = metrics.recall_score(y_test, dt_predictions_test)\n",
    "\n",
    "print(\"Accuracy for training data:\", dt_training_acc)\n",
    "print(\"Precision for training data:\", dt_training_prec)\n",
    "print(\"Recall for training data:\", dt_training_recall, '\\n')\n",
    "\n",
    "print(\"Accuracy for testing data:\", dt_testing_acc)\n",
    "print(\"Precision for testing data:\", dt_testing_prec)\n",
    "print(\"Recall for testing data:\", dt_testing_recall)"
   ]
  },
  {
   "cell_type": "markdown",
   "metadata": {},
   "source": [
    "- Our accuracy using decision tree model is 76% and it was 70% while we used logistic regression. However, unlike the logistic regresssion, we saw that the test data is smaller than the training data accuracry here than training data while calculating accuracy. The test data accuracy in this example was also smaller than test data accuracy in logistic regression which was about 74% andd it is 70% here.\n",
    "- Our precision is 74 vs 72 in logistic reg. So, it is slightly higher in the training datasets. However, the test data precision is 72 here and it was 75 in the previous example, so it is smaller here. The test data preission is also smaller than the training data precision here unlike logistic regression.\n",
    "- Our recall here is also 98 vs 91 % in the logistic regression. However, the test data recall, 92% is smaller than the logistic regression test data precision 93%. The training data precision here is 98% and that is higher than the test data precision unlike the logistic regression model as well. \n",
    "- Overall it seems, that the test data had higher values from the logistic regression model and trianing data had higher values in Decision Tree model"
   ]
  },
  {
   "cell_type": "markdown",
   "metadata": {},
   "source": [
    "### Logistic Regression Model after removing the NaN values from the two columns in the initial dataset"
   ]
  },
  {
   "cell_type": "markdown",
   "metadata": {},
   "source": [
    "After seeing my accuracy scores while using the logistic regression model in the dataset, I tried to evaluate if we the vallues which were null initially have played a role in the model. In our datasets, we have a couple individuals who do not have a chckings account and some who do not have a savings account. So, for curiousity purposes, I wanted to see the effects of the model when we only take those who have both savings and checkings account and I used logistic regression here as well as we are comparing with the same model, but different datasets. "
   ]
  },
  {
   "cell_type": "markdown",
   "metadata": {},
   "source": [
    "We have less datas now and that possibly could be significant with the model calculations."
   ]
  },
  {
   "cell_type": "code",
   "execution_count": 33,
   "metadata": {},
   "outputs": [
    {
     "data": {
      "text/plain": [
       "(522, 10)"
      ]
     },
     "execution_count": 33,
     "metadata": {},
     "output_type": "execute_result"
    }
   ],
   "source": [
    "df_new = df.dropna()\n",
    "df_new.shape"
   ]
  },
  {
   "cell_type": "code",
   "execution_count": 34,
   "metadata": {},
   "outputs": [
    {
     "name": "stderr",
     "output_type": "stream",
     "text": [
      "C:\\Users\\deban\\anaconda3\\lib\\site-packages\\pandas\\core\\generic.py:6662: SettingWithCopyWarning: \n",
      "A value is trying to be set on a copy of a slice from a DataFrame.\n",
      "Try using .loc[row_indexer,col_indexer] = value instead\n",
      "\n",
      "See the caveats in the documentation: https://pandas.pydata.org/pandas-docs/stable/user_guide/indexing.html#returning-a-view-versus-a-copy\n",
      "  res[c] = res[c].replace(\n"
     ]
    },
    {
     "data": {
      "text/html": [
       "<div>\n",
       "<style scoped>\n",
       "    .dataframe tbody tr th:only-of-type {\n",
       "        vertical-align: middle;\n",
       "    }\n",
       "\n",
       "    .dataframe tbody tr th {\n",
       "        vertical-align: top;\n",
       "    }\n",
       "\n",
       "    .dataframe thead th {\n",
       "        text-align: right;\n",
       "    }\n",
       "</style>\n",
       "<table border=\"1\" class=\"dataframe\">\n",
       "  <thead>\n",
       "    <tr style=\"text-align: right;\">\n",
       "      <th></th>\n",
       "      <th>Age</th>\n",
       "      <th>Sex</th>\n",
       "      <th>Job</th>\n",
       "      <th>Housing</th>\n",
       "      <th>Saving accounts</th>\n",
       "      <th>Checking account</th>\n",
       "      <th>Credit amount</th>\n",
       "      <th>Duration</th>\n",
       "      <th>Purpose</th>\n",
       "      <th>Risk</th>\n",
       "    </tr>\n",
       "  </thead>\n",
       "  <tbody>\n",
       "    <tr>\n",
       "      <th>1</th>\n",
       "      <td>22</td>\n",
       "      <td>0</td>\n",
       "      <td>2</td>\n",
       "      <td>0</td>\n",
       "      <td>1</td>\n",
       "      <td>2</td>\n",
       "      <td>5951</td>\n",
       "      <td>48</td>\n",
       "      <td>0</td>\n",
       "      <td>0</td>\n",
       "    </tr>\n",
       "    <tr>\n",
       "      <th>3</th>\n",
       "      <td>45</td>\n",
       "      <td>1</td>\n",
       "      <td>2</td>\n",
       "      <td>1</td>\n",
       "      <td>1</td>\n",
       "      <td>1</td>\n",
       "      <td>7882</td>\n",
       "      <td>42</td>\n",
       "      <td>1</td>\n",
       "      <td>1</td>\n",
       "    </tr>\n",
       "    <tr>\n",
       "      <th>4</th>\n",
       "      <td>53</td>\n",
       "      <td>1</td>\n",
       "      <td>2</td>\n",
       "      <td>1</td>\n",
       "      <td>1</td>\n",
       "      <td>1</td>\n",
       "      <td>4870</td>\n",
       "      <td>24</td>\n",
       "      <td>2</td>\n",
       "      <td>0</td>\n",
       "    </tr>\n",
       "    <tr>\n",
       "      <th>7</th>\n",
       "      <td>35</td>\n",
       "      <td>1</td>\n",
       "      <td>3</td>\n",
       "      <td>2</td>\n",
       "      <td>1</td>\n",
       "      <td>2</td>\n",
       "      <td>6948</td>\n",
       "      <td>36</td>\n",
       "      <td>2</td>\n",
       "      <td>1</td>\n",
       "    </tr>\n",
       "    <tr>\n",
       "      <th>9</th>\n",
       "      <td>28</td>\n",
       "      <td>1</td>\n",
       "      <td>3</td>\n",
       "      <td>0</td>\n",
       "      <td>1</td>\n",
       "      <td>2</td>\n",
       "      <td>5234</td>\n",
       "      <td>30</td>\n",
       "      <td>2</td>\n",
       "      <td>0</td>\n",
       "    </tr>\n",
       "  </tbody>\n",
       "</table>\n",
       "</div>"
      ],
      "text/plain": [
       "   Age  Sex  Job  Housing  Saving accounts  Checking account  Credit amount  \\\n",
       "1   22    0    2        0                1                 2           5951   \n",
       "3   45    1    2        1                1                 1           7882   \n",
       "4   53    1    2        1                1                 1           4870   \n",
       "7   35    1    3        2                1                 2           6948   \n",
       "9   28    1    3        0                1                 2           5234   \n",
       "\n",
       "   Duration  Purpose  Risk  \n",
       "1        48        0     0  \n",
       "3        42        1     1  \n",
       "4        24        2     0  \n",
       "7        36        2     1  \n",
       "9        30        2     0  "
      ]
     },
     "execution_count": 34,
     "metadata": {},
     "output_type": "execute_result"
    }
   ],
   "source": [
    "df_new.replace(updates, inplace=True)\n",
    "df_new.head()"
   ]
  },
  {
   "cell_type": "markdown",
   "metadata": {},
   "source": [
    "We have developed new x and y datasets along with new training and test datasets as we do not have the same amount of the datasets as last time. Followin that, we are evaluating our scores, predictions and the confusion matrices and storing them in the respective variables."
   ]
  },
  {
   "cell_type": "code",
   "execution_count": 35,
   "metadata": {},
   "outputs": [],
   "source": [
    "x2 = df_new.drop(['Risk'], axis = 1)\n",
    "y2 = df_new['Risk']\n",
    "\n",
    "logreg2 = LogisticRegression(penalty = 'none' , max_iter= 10000)\n",
    "logreg2.fit(x2, y2)\n",
    "\n",
    "x2_train, x2_test, y2_train, y2_test = train_test_split(x2, y2, shuffle = True, test_size=0.2, random_state=1)\n",
    "\n",
    "score2 = logreg2.score(x2_train, y2_train)\n",
    "score_test2 = logreg2.score(x2_test, y2_test)\n",
    "\n",
    "predictions2 = logreg2.predict(x2_train)\n",
    "predictions_test2 = logreg2.predict(x2_test)\n",
    "\n",
    "cm2 = metrics.confusion_matrix(y2_train, predictions2)\n",
    "cm_test2 = metrics.confusion_matrix(y2_test, predictions_test2)"
   ]
  },
  {
   "cell_type": "markdown",
   "metadata": {},
   "source": [
    "**Below is the confusion matrix for logistic regression of the training dataset after removing the NaN rows.**"
   ]
  },
  {
   "cell_type": "code",
   "execution_count": 36,
   "metadata": {},
   "outputs": [
    {
     "data": {
      "image/png": "[encoded data removed]",
      "text/plain": [
       "<Figure size 648x648 with 2 Axes>"
      ]
     },
     "metadata": {
      "needs_background": "light"
     },
     "output_type": "display_data"
    }
   ],
   "source": [
    "plt.figure(figsize=(9,9))\n",
    "sns.heatmap(cm2, annot=True, fmt=\".3f\", linewidths=.5, square = True, cmap = 'Pastel1')\n",
    "plt.ylabel('Actual label');\n",
    "plt.xlabel('Predicted label');\n",
    "all_sample_title = 'Accuracy Score for training data: {0}'.format(score2)\n",
    "plt.title(all_sample_title, size = 15);\n",
    "plt.show()"
   ]
  },
  {
   "cell_type": "markdown",
   "metadata": {},
   "source": [
    "As we can see above, we get a 65 percent accuracy after removing those null values and in the case of logistic regression in our normal dataset, it was higher around 70%. "
   ]
  },
  {
   "cell_type": "markdown",
   "metadata": {},
   "source": [
    "**Below is the confusion matrix for logistic regression of the test dataset after removing the NaN rows.**"
   ]
  },
  {
   "cell_type": "code",
   "execution_count": 37,
   "metadata": {},
   "outputs": [
    {
     "data": {
      "image/png": "[encoded data removed]",
      "text/plain": [
       "<Figure size 648x648 with 2 Axes>"
      ]
     },
     "metadata": {
      "needs_background": "light"
     },
     "output_type": "display_data"
    }
   ],
   "source": [
    "plt.figure(figsize=(9,9))\n",
    "sns.heatmap(cm2, annot=True, fmt=\".3f\", linewidths=.5, square = True, cmap = 'Pastel1')\n",
    "plt.ylabel('Actual label');\n",
    "plt.xlabel('Predicted label');\n",
    "all_sample_title = 'Accuracy Score for training data: {0}'.format(score_test2)\n",
    "plt.title(all_sample_title, size = 15);\n",
    "plt.show()"
   ]
  },
  {
   "cell_type": "markdown",
   "metadata": {},
   "source": [
    "As we can see above, we get a 60 percent accuracy after removing those null values and in the case of logistic regression in our normal dataset, it was higher around 74%."
   ]
  },
  {
   "cell_type": "code",
   "execution_count": 38,
   "metadata": {},
   "outputs": [
    {
     "name": "stdout",
     "output_type": "stream",
     "text": [
      "Accuracy for training data: 0.657074340527578\n",
      "Precision for training data: 0.662962962962963\n",
      "Recall for training data: 0.662962962962963 \n",
      "\n",
      "Accuracy for testing data: 0.6\n",
      "Precision for testing data: 0.6285714285714286\n",
      "Recall for testing data: 0.7333333333333333\n"
     ]
    }
   ],
   "source": [
    "training_acc2 = metrics.accuracy_score(y2_train, predictions2)\n",
    "training_prec2 = metrics.precision_score(y2_train, predictions2)\n",
    "training_recall2 = metrics.recall_score(y2_train, predictions2)\n",
    "testing_acc2 = metrics.accuracy_score(y2_test, predictions_test2)\n",
    "testing_prec2 = metrics.precision_score(y2_test, predictions_test2)\n",
    "testing_recall2 = metrics.recall_score(y2_test, predictions_test2)\n",
    "\n",
    "print(\"Accuracy for training data:\", training_acc2)\n",
    "print(\"Precision for training data:\", training_prec2)\n",
    "print(\"Recall for training data:\", training_prec2, '\\n')\n",
    "\n",
    "print(\"Accuracy for testing data:\", testing_acc2)\n",
    "print(\"Precision for testing data:\", testing_prec2)\n",
    "print(\"Recall for testing data:\", testing_recall2)"
   ]
  },
  {
   "cell_type": "markdown",
   "metadata": {},
   "source": [
    "After removing the null columns, I realized that the overall accuracy and precision were higher in the main dataset that used the logsitic regression model and therefore, removing any null datas could probably affect the accuracy rate as it did here and not improve it. \n",
    "- Acccuracy is 65% here vs 70% in the main log reg - training data\n",
    "- Precision is 66% here vs 72% in the main log reg - training data\n",
    "- Recall is 66% here vs 91% in the main log reg - training data\n",
    "- Acccuracy is 60% here vs 74% in the main log reg - test data\n",
    "- Precision is 62% here vs 75% in the main log reg - test data\n",
    "- Recall is 73% here vs 93% in the main log reg - test data"
   ]
  },
  {
   "cell_type": "markdown",
   "metadata": {},
   "source": [
    "### Logistic Regression Model after removing the outlier values from some specific columns"
   ]
  },
  {
   "cell_type": "markdown",
   "metadata": {},
   "source": [
    "Below, we develop a new dataset for removing the categorical outliers and training it in a logistic regression model."
   ]
  },
  {
   "cell_type": "code",
   "execution_count": 39,
   "metadata": {},
   "outputs": [
    {
     "data": {
      "text/html": [
       "<div>\n",
       "<style scoped>\n",
       "    .dataframe tbody tr th:only-of-type {\n",
       "        vertical-align: middle;\n",
       "    }\n",
       "\n",
       "    .dataframe tbody tr th {\n",
       "        vertical-align: top;\n",
       "    }\n",
       "\n",
       "    .dataframe thead th {\n",
       "        text-align: right;\n",
       "    }\n",
       "</style>\n",
       "<table border=\"1\" class=\"dataframe\">\n",
       "  <thead>\n",
       "    <tr style=\"text-align: right;\">\n",
       "      <th></th>\n",
       "      <th>Age</th>\n",
       "      <th>Sex</th>\n",
       "      <th>Job</th>\n",
       "      <th>Housing</th>\n",
       "      <th>Saving accounts</th>\n",
       "      <th>Checking account</th>\n",
       "      <th>Credit amount</th>\n",
       "      <th>Duration</th>\n",
       "      <th>Purpose</th>\n",
       "      <th>Risk</th>\n",
       "    </tr>\n",
       "  </thead>\n",
       "  <tbody>\n",
       "    <tr>\n",
       "      <th>0</th>\n",
       "      <td>67</td>\n",
       "      <td>1</td>\n",
       "      <td>2</td>\n",
       "      <td>0</td>\n",
       "      <td>0</td>\n",
       "      <td>1</td>\n",
       "      <td>1169</td>\n",
       "      <td>6</td>\n",
       "      <td>0</td>\n",
       "      <td>1</td>\n",
       "    </tr>\n",
       "    <tr>\n",
       "      <th>1</th>\n",
       "      <td>22</td>\n",
       "      <td>0</td>\n",
       "      <td>2</td>\n",
       "      <td>0</td>\n",
       "      <td>1</td>\n",
       "      <td>2</td>\n",
       "      <td>5951</td>\n",
       "      <td>48</td>\n",
       "      <td>0</td>\n",
       "      <td>0</td>\n",
       "    </tr>\n",
       "    <tr>\n",
       "      <th>2</th>\n",
       "      <td>49</td>\n",
       "      <td>1</td>\n",
       "      <td>1</td>\n",
       "      <td>0</td>\n",
       "      <td>1</td>\n",
       "      <td>0</td>\n",
       "      <td>2096</td>\n",
       "      <td>12</td>\n",
       "      <td>7</td>\n",
       "      <td>1</td>\n",
       "    </tr>\n",
       "    <tr>\n",
       "      <th>3</th>\n",
       "      <td>45</td>\n",
       "      <td>1</td>\n",
       "      <td>2</td>\n",
       "      <td>1</td>\n",
       "      <td>1</td>\n",
       "      <td>1</td>\n",
       "      <td>7882</td>\n",
       "      <td>42</td>\n",
       "      <td>1</td>\n",
       "      <td>1</td>\n",
       "    </tr>\n",
       "    <tr>\n",
       "      <th>4</th>\n",
       "      <td>53</td>\n",
       "      <td>1</td>\n",
       "      <td>2</td>\n",
       "      <td>1</td>\n",
       "      <td>1</td>\n",
       "      <td>1</td>\n",
       "      <td>4870</td>\n",
       "      <td>24</td>\n",
       "      <td>2</td>\n",
       "      <td>0</td>\n",
       "    </tr>\n",
       "  </tbody>\n",
       "</table>\n",
       "</div>"
      ],
      "text/plain": [
       "   Age  Sex  Job  Housing  Saving accounts  Checking account  Credit amount  \\\n",
       "0   67    1    2        0                0                 1           1169   \n",
       "1   22    0    2        0                1                 2           5951   \n",
       "2   49    1    1        0                1                 0           2096   \n",
       "3   45    1    2        1                1                 1           7882   \n",
       "4   53    1    2        1                1                 1           4870   \n",
       "\n",
       "   Duration  Purpose  Risk  \n",
       "0         6        0     1  \n",
       "1        48        0     0  \n",
       "2        12        7     1  \n",
       "3        42        1     1  \n",
       "4        24        2     0  "
      ]
     },
     "execution_count": 39,
     "metadata": {},
     "output_type": "execute_result"
    }
   ],
   "source": [
    "df_new = df_upd.copy()\n",
    "df_new.head()"
   ]
  },
  {
   "cell_type": "markdown",
   "metadata": {},
   "source": [
    "Showed the visualizations again for reference"
   ]
  },
  {
   "cell_type": "code",
   "execution_count": 40,
   "metadata": {},
   "outputs": [
    {
     "data": {
      "text/plain": [
       "<matplotlib.axes._subplots.AxesSubplot at 0x1fb3b2beb20>"
      ]
     },
     "execution_count": 40,
     "metadata": {},
     "output_type": "execute_result"
    },
    {
     "data": {
      "image/png": "[encoded data removed]",
      "text/plain": [
       "<Figure size 432x288 with 1 Axes>"
      ]
     },
     "metadata": {
      "needs_background": "light"
     },
     "output_type": "display_data"
    }
   ],
   "source": [
    "sns.countplot(x=\"Saving accounts\", data=df_new)"
   ]
  },
  {
   "cell_type": "code",
   "execution_count": 41,
   "metadata": {},
   "outputs": [
    {
     "data": {
      "text/plain": [
       "<matplotlib.axes._subplots.AxesSubplot at 0x1fb3b013dc0>"
      ]
     },
     "execution_count": 41,
     "metadata": {},
     "output_type": "execute_result"
    },
    {
     "data": {
      "image/png": "[encoded data removed]",
      "text/plain": [
       "<Figure size 432x288 with 1 Axes>"
      ]
     },
     "metadata": {
      "needs_background": "light"
     },
     "output_type": "display_data"
    }
   ],
   "source": [
    "sns.countplot(x=\"Checking account\", data=df_new)"
   ]
  },
  {
   "cell_type": "markdown",
   "metadata": {},
   "source": [
    "- **As we can see in the previous two count plots, where the savings account would be a value of 1 is an outlier for all savings account related data and where the checking account would be a value of 3 would be the outlier as those two values are far off from the rest of the datasets.** \n",
    "- **Therefore, in the example below, we drop all rows that may have either of those two conditions and update the dataframe.**"
   ]
  },
  {
   "cell_type": "code",
   "execution_count": 42,
   "metadata": {},
   "outputs": [],
   "source": [
    "index = df_new[(df_new['Checking account'] == 3) | (df_new['Saving accounts'] == 1)].index\n",
    "df_new.drop(index, inplace=True)"
   ]
  },
  {
   "cell_type": "code",
   "execution_count": 43,
   "metadata": {},
   "outputs": [
    {
     "data": {
      "text/html": [
       "<div>\n",
       "<style scoped>\n",
       "    .dataframe tbody tr th:only-of-type {\n",
       "        vertical-align: middle;\n",
       "    }\n",
       "\n",
       "    .dataframe tbody tr th {\n",
       "        vertical-align: top;\n",
       "    }\n",
       "\n",
       "    .dataframe thead th {\n",
       "        text-align: right;\n",
       "    }\n",
       "</style>\n",
       "<table border=\"1\" class=\"dataframe\">\n",
       "  <thead>\n",
       "    <tr style=\"text-align: right;\">\n",
       "      <th></th>\n",
       "      <th>Age</th>\n",
       "      <th>Sex</th>\n",
       "      <th>Job</th>\n",
       "      <th>Housing</th>\n",
       "      <th>Saving accounts</th>\n",
       "      <th>Checking account</th>\n",
       "      <th>Credit amount</th>\n",
       "      <th>Duration</th>\n",
       "      <th>Purpose</th>\n",
       "      <th>Risk</th>\n",
       "    </tr>\n",
       "  </thead>\n",
       "  <tbody>\n",
       "    <tr>\n",
       "      <th>0</th>\n",
       "      <td>67</td>\n",
       "      <td>1</td>\n",
       "      <td>2</td>\n",
       "      <td>0</td>\n",
       "      <td>0</td>\n",
       "      <td>1</td>\n",
       "      <td>1169</td>\n",
       "      <td>6</td>\n",
       "      <td>0</td>\n",
       "      <td>1</td>\n",
       "    </tr>\n",
       "    <tr>\n",
       "      <th>5</th>\n",
       "      <td>35</td>\n",
       "      <td>1</td>\n",
       "      <td>1</td>\n",
       "      <td>1</td>\n",
       "      <td>0</td>\n",
       "      <td>0</td>\n",
       "      <td>9055</td>\n",
       "      <td>36</td>\n",
       "      <td>7</td>\n",
       "      <td>1</td>\n",
       "    </tr>\n",
       "    <tr>\n",
       "      <th>6</th>\n",
       "      <td>53</td>\n",
       "      <td>1</td>\n",
       "      <td>2</td>\n",
       "      <td>0</td>\n",
       "      <td>4</td>\n",
       "      <td>0</td>\n",
       "      <td>2835</td>\n",
       "      <td>24</td>\n",
       "      <td>1</td>\n",
       "      <td>1</td>\n",
       "    </tr>\n",
       "    <tr>\n",
       "      <th>8</th>\n",
       "      <td>61</td>\n",
       "      <td>1</td>\n",
       "      <td>1</td>\n",
       "      <td>0</td>\n",
       "      <td>3</td>\n",
       "      <td>0</td>\n",
       "      <td>3059</td>\n",
       "      <td>12</td>\n",
       "      <td>0</td>\n",
       "      <td>1</td>\n",
       "    </tr>\n",
       "    <tr>\n",
       "      <th>15</th>\n",
       "      <td>32</td>\n",
       "      <td>0</td>\n",
       "      <td>1</td>\n",
       "      <td>0</td>\n",
       "      <td>2</td>\n",
       "      <td>1</td>\n",
       "      <td>1282</td>\n",
       "      <td>24</td>\n",
       "      <td>0</td>\n",
       "      <td>0</td>\n",
       "    </tr>\n",
       "  </tbody>\n",
       "</table>\n",
       "</div>"
      ],
      "text/plain": [
       "    Age  Sex  Job  Housing  Saving accounts  Checking account  Credit amount  \\\n",
       "0    67    1    2        0                0                 1           1169   \n",
       "5    35    1    1        1                0                 0           9055   \n",
       "6    53    1    2        0                4                 0           2835   \n",
       "8    61    1    1        0                3                 0           3059   \n",
       "15   32    0    1        0                2                 1           1282   \n",
       "\n",
       "    Duration  Purpose  Risk  \n",
       "0          6        0     1  \n",
       "5         36        7     1  \n",
       "6         24        1     1  \n",
       "8         12        0     1  \n",
       "15        24        0     0  "
      ]
     },
     "execution_count": 43,
     "metadata": {},
     "output_type": "execute_result"
    }
   ],
   "source": [
    "df_new.head()"
   ]
  },
  {
   "cell_type": "markdown",
   "metadata": {},
   "source": [
    "We have developed new x and y datasets along with new training and test datasets as we do not have the same amount of the datasets as last time. Followin that, we are evaluating our scores, predictions and the confusion matrices and storing them in the respective variables."
   ]
  },
  {
   "cell_type": "code",
   "execution_count": 44,
   "metadata": {},
   "outputs": [],
   "source": [
    "x3 = df_new.drop(['Risk'], axis = 1)\n",
    "y3 = df_new['Risk']\n",
    "\n",
    "logreg3 = LogisticRegression(penalty = 'none' , max_iter= 10000)\n",
    "logreg3.fit(x3, y3)\n",
    "\n",
    "x3_train, x3_test, y3_train, y3_test = train_test_split(x3, y3, shuffle = True, test_size=0.2, random_state=1)\n",
    "\n",
    "score3 = logreg3.score(x3_train, y3_train)\n",
    "score_test3 = logreg3.score(x3_test, y3_test)\n",
    "\n",
    "predictions3 = logreg3.predict(x3_train)\n",
    "predictions_test3 = logreg3.predict(x3_test)\n",
    "\n",
    "cm3 = metrics.confusion_matrix(y3_train, predictions3)\n",
    "cm_test3 = metrics.confusion_matrix(y3_test, predictions_test3)"
   ]
  },
  {
   "cell_type": "markdown",
   "metadata": {},
   "source": [
    "**Below is the confusion matrix for logistic regression of the training dataset after removing the outliers from savings and checkings account columns.**"
   ]
  },
  {
   "cell_type": "code",
   "execution_count": 45,
   "metadata": {},
   "outputs": [
    {
     "data": {
      "image/png": "[encoded data removed]",
      "text/plain": [
       "<Figure size 648x648 with 2 Axes>"
      ]
     },
     "metadata": {
      "needs_background": "light"
     },
     "output_type": "display_data"
    }
   ],
   "source": [
    "plt.figure(figsize=(9,9))\n",
    "sns.heatmap(cm3, annot=True, fmt=\".3f\", linewidths=.5, square = True, cmap = 'Pastel1')\n",
    "plt.ylabel('Actual label');\n",
    "plt.xlabel('Predicted label');\n",
    "all_sample_title = 'Accuracy Score for training data: {0}'.format(score3)\n",
    "plt.title(all_sample_title, size = 15);\n",
    "plt.show()"
   ]
  },
  {
   "cell_type": "markdown",
   "metadata": {},
   "source": [
    "As we can see above, we get a 79 percent accuracy after removing those null values and in the case of logistic regression in our normal dataset, it was lower around 70%. "
   ]
  },
  {
   "cell_type": "markdown",
   "metadata": {},
   "source": [
    "**Below is the confusion matrix for logistic regression of the test dataset after removing the outliers from savings and checkings account columns.**"
   ]
  },
  {
   "cell_type": "code",
   "execution_count": 46,
   "metadata": {},
   "outputs": [
    {
     "data": {
      "image/png": "[encoded data removed]",
      "text/plain": [
       "<Figure size 648x648 with 2 Axes>"
      ]
     },
     "metadata": {
      "needs_background": "light"
     },
     "output_type": "display_data"
    }
   ],
   "source": [
    "plt.figure(figsize=(9,9))\n",
    "sns.heatmap(cm_test3, annot=True, fmt=\".3f\", linewidths=.5, square = True, cmap = 'Pastel1')\n",
    "plt.ylabel('Actual label');\n",
    "plt.xlabel('Predicted label');\n",
    "all_sample_title = 'Accuracy Score for training data: {0}'.format(score_test3)\n",
    "plt.title(all_sample_title, size = 15);\n",
    "plt.show()"
   ]
  },
  {
   "cell_type": "markdown",
   "metadata": {},
   "source": [
    "As we can see above, we get a 77 percent accuracy after removing those null values and in the case of logistic regression in our normal dataset, it was lower around 74%. "
   ]
  },
  {
   "cell_type": "code",
   "execution_count": 47,
   "metadata": {},
   "outputs": [
    {
     "name": "stdout",
     "output_type": "stream",
     "text": [
      "Accuracy for training data: 0.79\n",
      "Precision for training data: 0.8041237113402062\n",
      "Recall for training data: 0.975 \n",
      "\n",
      "Accuracy for testing data: 0.7733333333333333\n",
      "Precision for testing data: 0.7671232876712328\n",
      "Recall for testing data: 1.0\n"
     ]
    }
   ],
   "source": [
    "training_acc3 = metrics.accuracy_score(y3_train, predictions3)\n",
    "training_prec3 = metrics.precision_score(y3_train, predictions3)\n",
    "training_recall3 = metrics.recall_score(y3_train, predictions3)\n",
    "testing_acc3 = metrics.accuracy_score(y3_test, predictions_test3)\n",
    "testing_prec3 = metrics.precision_score(y3_test, predictions_test3)\n",
    "testing_recall3 = metrics.recall_score(y3_test, predictions_test3)\n",
    "\n",
    "print(\"Accuracy for training data:\", training_acc3)\n",
    "print(\"Precision for training data:\", training_prec3)\n",
    "print(\"Recall for training data:\", training_recall3, '\\n')\n",
    "\n",
    "print(\"Accuracy for testing data:\", testing_acc3)\n",
    "print(\"Precision for testing data:\", testing_prec3)\n",
    "print(\"Recall for testing data:\", testing_recall3)"
   ]
  },
  {
   "cell_type": "markdown",
   "metadata": {},
   "source": [
    "After removing the outlier categorical data from the savings account and checcking account dataset, I realized that the overall accuracy and precision were higher in this dataset vs the main one and both used log regression. Therefore, removing outliers may be helpful when we want to calculte accuracy and all other data.\n",
    "- Acccuracy is 79% here vs 70% in the main log reg - training data\n",
    "- Precision is 80% here vs 72% in the main log reg - training data\n",
    "- Recall is 97% here vs 91% in the main log reg - training data\n",
    "- Acccuracy is 77% here vs 74% in the main log reg - test data\n",
    "- Precision is 76% here vs 75% in the main log reg - test data\n",
    "- Recall is 100% here vs 93% in the main log reg - test data"
   ]
  },
  {
   "cell_type": "markdown",
   "metadata": {},
   "source": [
    "## Model Evaluation and Selection"
   ]
  },
  {
   "cell_type": "markdown",
   "metadata": {},
   "source": [
    "**SHowing the accuracy, precision, and recall scores for all of our train and test datasets in each of our models and we will be making a selection after observing it.**"
   ]
  },
  {
   "cell_type": "code",
   "execution_count": 48,
   "metadata": {},
   "outputs": [
    {
     "name": "stdout",
     "output_type": "stream",
     "text": [
      "LOGISTIC REGRESSION DETAILS OF OUR DATASET \n",
      "\n",
      "Accuracy for training data: 0.70125\n",
      "Precision for training data: 0.7259887005649718\n",
      "Recall for training data: 0.9194991055456172\n",
      "Accuracy for testing data: 0.74\n",
      "Precision for testing data: 0.7542857142857143\n",
      "Recall for testing data: 0.9361702127659575 \n",
      "\n",
      "DECISION TREE MODEL DETAILS OF OUR DATASET \n",
      "\n",
      "Accuracy for training data: 0.76125\n",
      "Precision for training data: 0.7493224932249323\n",
      "Recall for training data: 0.9892665474060823\n",
      "Accuracy for testing data: 0.7\n",
      "Precision for testing data: 0.7262569832402235\n",
      "Recall for testing data: 0.9219858156028369 \n",
      "\n",
      "LOGISTIC REGRESSION DETAILS AFTER REMOVING THE NAN VALUES \n",
      "\n",
      "Accuracy for training data: 0.657074340527578\n",
      "Precision for training data: 0.662962962962963\n",
      "Recall for training data: 0.662962962962963\n",
      "Accuracy for testing data: 0.6\n",
      "Precision for testing data: 0.6285714285714286\n",
      "Recall for testing data: 0.7333333333333333 \n",
      "\n",
      "LOGISTIC REGRESSION DETAILS AFTER REMOVING OUTLIERS FROM TWO COLUMNS \n",
      "\n",
      "Accuracy for training data: 0.79\n",
      "Precision for training data: 0.8041237113402062\n",
      "Recall for training data: 0.975\n",
      "Accuracy for testing data: 0.7733333333333333\n",
      "Precision for testing data: 0.7671232876712328\n",
      "Recall for testing data: 1.0\n"
     ]
    }
   ],
   "source": [
    "print(\"LOGISTIC REGRESSION DETAILS OF OUR DATASET\", '\\n')\n",
    "print(\"Accuracy for training data:\", training_acc)\n",
    "print(\"Precision for training data:\", training_prec)\n",
    "print(\"Recall for training data:\", training_recall)\n",
    "print(\"Accuracy for testing data:\", testing_acc)\n",
    "print(\"Precision for testing data:\", testing_prec)\n",
    "print(\"Recall for testing data:\", testing_recall, '\\n')\n",
    "\n",
    "\n",
    "print(\"DECISION TREE MODEL DETAILS OF OUR DATASET\", '\\n')\n",
    "print(\"Accuracy for training data:\", dt_training_acc)\n",
    "print(\"Precision for training data:\", dt_training_prec)\n",
    "print(\"Recall for training data:\", dt_training_recall)\n",
    "print(\"Accuracy for testing data:\", dt_testing_acc)\n",
    "print(\"Precision for testing data:\", dt_testing_prec)\n",
    "print(\"Recall for testing data:\", dt_testing_recall, '\\n')\n",
    "\n",
    "print(\"LOGISTIC REGRESSION DETAILS AFTER REMOVING THE NAN VALUES\", '\\n')\n",
    "print(\"Accuracy for training data:\", training_acc2)\n",
    "print(\"Precision for training data:\", training_prec2)\n",
    "print(\"Recall for training data:\", training_prec2)\n",
    "print(\"Accuracy for testing data:\", testing_acc2)\n",
    "print(\"Precision for testing data:\", testing_prec2)\n",
    "print(\"Recall for testing data:\", testing_recall2, '\\n')\n",
    "\n",
    "\n",
    "print(\"LOGISTIC REGRESSION DETAILS AFTER REMOVING OUTLIERS FROM TWO COLUMNS\", '\\n')\n",
    "print(\"Accuracy for training data:\", training_acc3)\n",
    "print(\"Precision for training data:\", training_prec3)\n",
    "print(\"Recall for training data:\", training_recall3)\n",
    "print(\"Accuracy for testing data:\", testing_acc3)\n",
    "print(\"Precision for testing data:\", testing_prec3)\n",
    "print(\"Recall for testing data:\", testing_recall3)"
   ]
  },
  {
   "cell_type": "markdown",
   "metadata": {},
   "source": [
    "As, we can see in the details above, I understand that while using logistic regression, it may help to remove the outliers as we can see that our overall scores have increased by a certain amount and it may be more accurate. However, if we go that route, it may not always be feasible in the business as we would have to test the models accuracy in all cases whether we have outliers or not. Therefore, I feel that though it may be a good way to improve on the accruacy and all other scores it may not be the most ideal situation. \n",
    "\n",
    "I also felt that since we have null values for the savings and checkings account columns, I felt that maybe this could have an impact on the model if we remove those datas. However, I realized that it would only reduce the overall accuracy scores and therefore this would not be a feasible solution. I feel that sometimes null could mean a lot more in terms of business rules. In this case, it meant an individual did not have a savings or checkings account and it is not mandatory to have both when credit scores are checked usually, so deleting those is not a good approach etiher. \n",
    "\n",
    "When I used my classification datsets in the logistic regression model and also compared the dataset to the Decision tree model, I realized that the decision model was higher when we used the training datasets and not higher when using the testing datasets. I feel that the reason could be that the tessting size was 20% and maybe that may not be enough for decision trees. Also, I set the max leaf node to 10 and possibly, if we had set it to a higher number, then possibly the accuracy could be higher as 10 max leaf nodes means it will continue splitting the nodes until it finds 10 conditions that are final and no further splitting would be necessary. Therefore, I believe that decision tree is the model that I would choose in order to test the accuracy and other values. The main reasons are, ebcause of the fact that they split into multiple nodes and check specific conditions and you also have the abilitiy to set how many leaf nodes you want it to have at a maximum. "
   ]
  },
  {
   "cell_type": "markdown",
   "metadata": {},
   "source": [
    "## Conclusion and Interpretations"
   ]
  },
  {
   "cell_type": "markdown",
   "metadata": {},
   "source": [
    "As we have seen, this dataset has the data of multiple individuals in Germany and their credit details liek savings account, checkings account, age, job, etc. Along with that, we have seen that their credit risks are also provided in the details above as the target data sets. As a data scientist in the finance company was to verify the targets and provide accuracy details to the company and give them an idea on the dataset and express my thoughts on which model would be a better fit and if there are specifically any factors that affect the accuracy scores and any additional scores. I initially converted all of the categorical datas to numerical datas in the datasets and then used that dataset to test it in logistic regression models along with decision tree models. I realized that the logistic regression model has a specific accuracy score of about 70% and that drove my curiousity to calculate the scores further after removing the null values and also removing the outliers from two of the columns where they are sseen to make a difference (savings and checkings account). Therefore, I tried all of those methods and tested the original dataset using log regression model and decision tree. I realized that the decision tree shows a higher data of accuracy in our training sets and would be an ideal candidate to use for classification modelling next time. Along with that, I realized that in logistic regression, it would help improve accuracy and other details when we remove outliers from specific columns, but not if we remove any null values. Therefore, those are my observations and suggestions that we should use decision tree. \n",
    "\n",
    "Some limitations and future work could be that I could try removing outliers from all of the other columns instead of two, but that may affect the dataset. I also could use a higher max leaf node for the decision tree model and maybe if we knew what job titles or roles the individuals had, that may have played a role in the overall credit amount. It would be interesting to see that. "
   ]
  },
  {
   "cell_type": "markdown",
   "metadata": {},
   "source": [
    "## References and contributions"
   ]
  },
  {
   "cell_type": "markdown",
   "metadata": {},
   "source": [
    "- Dataset: https://www.kaggle.com/kabure/german-credit-data-with-risk.\n",
    "- Referred to: https://www.kaggle.com/uciml/german-credit\n",
    "- Dataset inspired by: https://archive.ics.uci.edu/ml/datasets/Statlog+%28German+Credit+Data%29.\n",
    "- https://www.cnbc.com/2019/01/04/about-4-in-10-americans-have-no-idea-how-credit-scores-are-determined.html\n",
    "- https://www.investopedia.com/the-side-effects-of-bad-credit-4769783#:~:text=Poor%20credit%20can%20make%20it,%2C%20renter's%2C%20and%20homeowner's%20insurance."
   ]
  }
 ],
 "metadata": {
  "kernelspec": {
   "display_name": "Python 3",
   "language": "python",
   "name": "python3"
  },
  "language_info": {
   "codemirror_mode": {
    "name": "ipython",
    "version": 3
   },
   "file_extension": ".py",
   "mimetype": "text/x-python",
   "name": "python",
   "nbconvert_exporter": "python",
   "pygments_lexer": "ipython3",
   "version": "3.8.3"
  }
 },
 "nbformat": 4,
 "nbformat_minor": 4
}
